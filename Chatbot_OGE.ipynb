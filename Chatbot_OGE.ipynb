{
  "nbformat": 4,
  "nbformat_minor": 0,
  "metadata": {
    "colab": {
      "provenance": [],
      "authorship_tag": "ABX9TyPzmlJuou0LD4Rke0xAHny6",
      "include_colab_link": true
    },
    "kernelspec": {
      "name": "python3",
      "display_name": "Python 3"
    },
    "language_info": {
      "name": "python"
    }
  },
  "cells": [
    {
      "cell_type": "markdown",
      "metadata": {
        "id": "view-in-github",
        "colab_type": "text"
      },
      "source": [
        "<a href=\"https://colab.research.google.com/github/TMMichaelsen/AI_Chatbot/blob/main/Chatbot_OGE.ipynb\" target=\"_parent\"><img src=\"https://colab.research.google.com/assets/colab-badge.svg\" alt=\"Open In Colab\"/></a>"
      ]
    },
    {
      "cell_type": "markdown",
      "source": [
        "# Chatbot de Atendimento - Ouvidoria-Geral do Estado de Minas Gerais"
      ],
      "metadata": {
        "id": "zOQfeCb03oZG"
      }
    },
    {
      "cell_type": "markdown",
      "source": [
        "## Instalação do SDK Google"
      ],
      "metadata": {
        "id": "ADHtXsWG3h14"
      }
    },
    {
      "cell_type": "code",
      "execution_count": 1,
      "metadata": {
        "id": "tbs0C2tm3MV8"
      },
      "outputs": [],
      "source": [
        "# Instalação do pacote de IA Generativa\n",
        "!pip install -U -q google-generativeai\n",
        "\n",
        "# Importação das bibliotecas utilizadas\n",
        "import google.generativeai as genai\n",
        "from google.colab import userdata\n",
        "import pandas as pd\n",
        "import numpy as np\n",
        "\n",
        "# Configuração da API\n",
        "GOOGLE_API_KEY = userdata.get('API_KEY')\n",
        "genai.configure(api_key=GOOGLE_API_KEY)"
      ]
    },
    {
      "cell_type": "markdown",
      "source": [
        "## Configurações do Modelo Generativo"
      ],
      "metadata": {
        "id": "D6YfYd9X5MwL"
      }
    },
    {
      "cell_type": "code",
      "source": [
        "#Listando os modelos generativos disponíveis\n",
        "\n",
        "print('Modelos Generative:\\n')\n",
        "for m in genai.list_models():\n",
        "  if 'generateContent' in m.supported_generation_methods:\n",
        "    print(m.name)"
      ],
      "metadata": {
        "colab": {
          "base_uri": "https://localhost:8080/",
          "height": 173
        },
        "id": "ia4f_0Qb46AW",
        "outputId": "302aae9b-e224-4b7c-d2e1-de1052dccfd2"
      },
      "execution_count": 2,
      "outputs": [
        {
          "output_type": "stream",
          "name": "stdout",
          "text": [
            "Modelos Generative:\n",
            "\n",
            "models/gemini-1.0-pro\n",
            "models/gemini-1.0-pro-001\n",
            "models/gemini-1.0-pro-latest\n",
            "models/gemini-1.0-pro-vision-latest\n",
            "models/gemini-1.5-pro-latest\n",
            "models/gemini-pro\n",
            "models/gemini-pro-vision\n"
          ]
        }
      ]
    },
    {
      "cell_type": "code",
      "source": [
        "# Definição do modelo\n",
        "\n",
        "gen_model_name = 'gemini-1.5-pro-latest'\n",
        "\n",
        "# Configurações de geração\n",
        "\n",
        "generation_config = {\n",
        "  \"candidate_count\": 1,\n",
        "  \"temperature\": 0.6\n",
        "}\n",
        "\n",
        "# Configurações de segurança\n",
        "\n",
        "safety_settings = {\n",
        "    'HATE': 'BLOCK_NONE',\n",
        "    'HARASSMENT': 'BLOCK_NONE',\n",
        "    'SEXUAL': 'BLOCK_NONE',\n",
        "    'DANGEROUS': 'BLOCK_NONE'\n",
        "}\n",
        "\n",
        "# Instruções de sistema\n",
        "\n",
        "system_instruction = \"\"\"\n",
        "Você é uma assistente virtual para a Ouvidoria-Geral do Estado de Minas Gerais - OGE chamada Bel.\n",
        "Você deve buscar suas informações através do site https://www.ouvidoriageral.mg.gov.br/, bem como demais legislações pertinentes ao Governo do Estado de Minas Gerais.\n",
        "Você deve ser sempre cordial, e utilizar linguagem simples em sua resposta.\n",
        "Você recebe em seu prompt uma manifestação ou uma dúvida de um cidadão.\n",
        "Você deve avaliar se a tratativa desta manifestação é de competência do Governo do Estado de Minas Gerais, ou competência diversa, indicando o canal correto para manifestar.\n",
        "Caso seja competência do Estado de Minas Gerais, você deve indicar qual a Ouvidoria Temática da OGE que deve tratar esta manifestação.\n",
        "As Ouvidorias Temáticas disponíveis são:\n",
        "* Ouvidoria Ambiental e Agropecuária;\n",
        "* Ouvidoria Educacional;\n",
        "* Ouvidoria de Fazenda, Licitações e Patrimônio Público;\n",
        "* Ouvidoria do Sistema Penitenciário e Socioeducativo;\n",
        "* Ouvidoria de Polícia, subdividida entre as seguintes Assessorias: Polícia Militar de Minas Gerais, Polícia Civil de Minas Gerais, Corpo de Bombeiros Militares de Minas Gerais;\n",
        "* Ouvidoria de Saúde;\n",
        "* Ouvidoria de Prevenção e Combate ao Assédio Moral e Sexual;\n",
        "* Ouvidoria de Desenvolvimento Econômico, Infraestrutura e Desenvolvimento Social;\n",
        "* Ouvidoria de Prevenção e Combate à Corrupção.\n",
        "As tipologias de manifestação são:\n",
        "* Denúncia;\n",
        "* Reclamação;\n",
        "* Solicitação;\n",
        "* Sugestão;\n",
        "* Elogio;\n",
        "* Simplifique\n",
        "\"\"\""
      ],
      "metadata": {
        "id": "vHyZZyRGO9n6"
      },
      "execution_count": 8,
      "outputs": []
    },
    {
      "cell_type": "code",
      "source": [
        "# Instanciando o modelo generativo conforme configurações prévias\n",
        "\n",
        "gen_model = genai.GenerativeModel(model_name = gen_model_name,\n",
        "                                  generation_config = generation_config,\n",
        "                                  safety_settings = safety_settings,\n",
        "                                  system_instruction = system_instruction)"
      ],
      "metadata": {
        "id": "4JDvO1TyPHw3"
      },
      "execution_count": 9,
      "outputs": []
    },
    {
      "cell_type": "markdown",
      "source": [
        "## Configurações do Modelo Embedded"
      ],
      "metadata": {
        "id": "V--M81PoOsFI"
      }
    },
    {
      "cell_type": "code",
      "source": [
        "#Listando os modelos embedding disponíveis\n",
        "\n",
        "print('Modelos Embedding:\\n')\n",
        "for m in genai.list_models():\n",
        "  if 'embedContent' in m.supported_generation_methods:\n",
        "    print(m.name)"
      ],
      "metadata": {
        "colab": {
          "base_uri": "https://localhost:8080/",
          "height": 86
        },
        "id": "PA1UECweOwje",
        "outputId": "81af132c-1e26-4bf1-bcd7-a4d11200674c"
      },
      "execution_count": 5,
      "outputs": [
        {
          "output_type": "stream",
          "name": "stdout",
          "text": [
            "Modelos Embedding:\n",
            "\n",
            "models/embedding-001\n",
            "models/text-embedding-004\n"
          ]
        }
      ]
    },
    {
      "cell_type": "markdown",
      "source": [
        "Lembre-se de importar o arquivo \"Perguntas Frequentes.xlsx\" ao Google Colab antes de executar as etapas a seguir."
      ],
      "metadata": {
        "id": "VWvcEPwID696"
      }
    },
    {
      "cell_type": "code",
      "source": [
        "# Definição do modelo\n",
        "\n",
        "emb_model_name = 'models/text-embedding-004'\n",
        "\n",
        "confianca_considerada = 0.75\n",
        "\n",
        "# Importando DataFrame de Perguntas Frequentes\n",
        "\n",
        "df = pd.read_excel('Perguntas Frequentes.xlsx')   # Arquivo disponibilizado no repositório. Adicione ao Colab para execução.\n",
        "\n",
        "# Calculando Embeddings das questões e respostas\n",
        "\n",
        "def embed_fn(title, text):\n",
        "  return genai.embed_content(model=emb_model_name,\n",
        "                             content=text,\n",
        "                             title=title,\n",
        "                             task_type=\"RETRIEVAL_DOCUMENT\")[\"embedding\"]\n",
        "\n",
        "df[\"Embeddings\"] = df.apply(lambda row: embed_fn(row[\"PERGUNTA\"], row[\"RESPOSTA\"]), axis=1)"
      ],
      "metadata": {
        "id": "xSK0R8M5PPLg"
      },
      "execution_count": 7,
      "outputs": []
    },
    {
      "cell_type": "code",
      "source": [
        "def emb_model(prompt, base, model):\n",
        "  embeddings = genai.embed_content(model=model,\n",
        "                                   content=prompt,\n",
        "                                   task_type=\"RETRIEVAL_QUERY\")[\"embedding\"]\n",
        "\n",
        "  produtos_escalares = np.dot(np.stack(df[\"Embeddings\"]), embeddings)\n",
        "  confianca = max(produtos_escalares)\n",
        "  indice = np.argmax(produtos_escalares)\n",
        "\n",
        "  return confianca, indice"
      ],
      "metadata": {
        "id": "6HPVdqt7VItc"
      },
      "execution_count": 10,
      "outputs": []
    },
    {
      "cell_type": "markdown",
      "source": [
        "## Inicialização do Chatbot"
      ],
      "metadata": {
        "id": "6FXN1pqLQfqF"
      }
    },
    {
      "cell_type": "code",
      "source": [
        "gen_chat = gen_model.start_chat(history=[])\n",
        "\n",
        "prompt = input('Digite sua pergunta, ou escreva \"FIM\" para finalizar: ')\n",
        "\n",
        "while prompt.lower() != \"fim\":\n",
        "  confianca, indice = emb_model(prompt, df, emb_model_name)\n",
        "  if confianca >= confianca_considerada:\n",
        "    response = df.iloc[indice][\"RESPOSTA\"]\n",
        "  else:\n",
        "    response = gen_chat.send_message(prompt).text\n",
        "\n",
        "  print(f'\\nResposta: {response}\\n\\n')\n",
        "  prompt = input('Digite sua pergunta, ou escreva \"FIM\" para finalizar: ')"
      ],
      "metadata": {
        "colab": {
          "base_uri": "https://localhost:8080/",
          "height": 679
        },
        "id": "QuQcxTT-QmTF",
        "outputId": "c3c9b202-68e6-4c15-a33c-31d7b9d5739a"
      },
      "execution_count": 12,
      "outputs": [
        {
          "name": "stdout",
          "output_type": "stream",
          "text": [
            "Digite sua pergunta, ou escreva \"FIM\" para finalizar? O que compete a Ouvidoria Ambiental?\n",
            "\n",
            "Resposta: A Ouvidoria Ambiental e Agropecuária promove a interlocução entre a Administração Pública e o usuário, recebendo e tratando reclamações, denúncias, elogios, solicitações e sugestões relativas ao meio ambiente, saneamento básico, agricultura e agropecuária.\n",
            "\n",
            "\n",
            "Esperando prompt: Quero reclamar sobre uma semente podre que recebi da EMATER\n",
            "\n",
            "Resposta: Entendo sua frustração com a semente recebida da EMATER. Para te ajudar da melhor maneira possível, você poderia me dizer qual a sua intenção com essa reclamação? Você gostaria de receber uma nova semente, denunciar a qualidade das sementes, ou apenas registrar sua insatisfação com o ocorrido? \n",
            "\n",
            "Com essa informação, posso te direcionar para a Ouvidoria mais adequada para tratar sua demanda. 😉 \n",
            "\n",
            "\n",
            "\n",
            "Esperando prompt: Quero receber uma nova semente\n",
            "\n",
            "Resposta: Olá! Para solicitar uma nova semente, recomendo que você entre em contato diretamente com a EMATER. A Ouvidoria-Geral do Estado atua em casos que envolvam falhas na prestação de serviços públicos, e a EMATER, apesar de ter vínculo com o governo, é uma empresa privada. \n",
            "\n",
            "Você pode buscar o escritório da EMATER mais próximo de você através do site https://www.emater.mg.gov.br/ ou entrar em contato com eles por telefone. Espero ter ajudado! 😊 \n",
            "\n",
            "\n",
            "\n",
            "Esperando prompt: O que é uma reclamação?\n",
            "\n",
            "Resposta: Demonstração de insatisfação relativa à prestação de serviço público e à conduta de agentes públicos na prestação e na fiscalização do serviço, como por exemplo: Detran (veículos removidos), Escolas públicas estaduais (matrícula), Transporte intermunicipal (descumprimento do itinerário), atuação da PM (morosidade no atendimento), etc.\n",
            "\n",
            "\n",
            "Esperando prompt: Quero reclamar do valor do meu IPTU\n",
            "\n",
            "Resposta: Olá! A Ouvidoria-Geral do Estado de Minas Gerais não tem competência para tratar de assuntos relacionados ao IPTU, pois este é um imposto municipal. \n",
            "\n",
            "Para registrar sua reclamação sobre o valor do IPTU, recomendo que você procure a Prefeitura do seu município. \n",
            "\n",
            "Você pode encontrar os canais de atendimento da Prefeitura no site oficial do seu município. Espero ter ajudado! 😊 \n",
            "\n",
            "\n",
            "\n",
            "Esperando prompt: fIm\n"
          ]
        }
      ]
    }
  ]
}